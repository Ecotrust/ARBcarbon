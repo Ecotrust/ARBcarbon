{
 "cells": [
  {
   "cell_type": "code",
   "execution_count": 67,
   "metadata": {
    "collapsed": false
   },
   "outputs": [],
   "source": [
    "from ARB_Volume_Equations import *\n",
    "from ARB_Biomass_Equations import *\n",
    "import pandas as pd"
   ]
  },
  {
   "cell_type": "code",
   "execution_count": 68,
   "metadata": {
    "collapsed": true
   },
   "outputs": [],
   "source": [
    "# The volume equations were translated from the PDF availabe on the ARB website: \n",
    "# http://www.arb.ca.gov/cc/capandtrade/protocols/usforest/usforestprojects_2015.htm\n",
    "# Assignments to individual species were drawn from from this page on May 11, 2016, and downloaded as a PDF\n",
    "# http://www.arb.ca.gov/cc/capandtrade/protocols/usforest/2015/volume.equations.ca.or.wa.pdf"
   ]
  },
  {
   "cell_type": "code",
   "execution_count": 69,
   "metadata": {
    "collapsed": true
   },
   "outputs": [],
   "source": [
    "def check_for_None(equation_number):\n",
    "    eqn = str(equation_number)\n",
    "    if eqn == '--':\n",
    "        return None\n",
    "    elif '.' in eqn:\n",
    "        return eqn.replace('.','')\n",
    "    else:\n",
    "        return eqn    "
   ]
  },
  {
   "cell_type": "code",
   "execution_count": 70,
   "metadata": {
    "collapsed": false
   },
   "outputs": [],
   "source": [
    "# Create a class that holds the equations and related attributes to be used for each species.\n",
    "class Species:\n",
    "    def __init__(self, FIAcode, common_name, wood_type):\n",
    "        '''\n",
    "        Instantiates the class to hold various attributes of a tree species.\n",
    "        '''\n",
    "        self.code = FIAcode # Numerical species code used by USFS FIA Program\n",
    "        self.common_name = common_name # Common_name of the species\n",
    "        self.wood_type = wood_type # Hardwood or Softwood (as \"HW\" or \"SW\")\n",
    "        \n",
    "    def add_vols(self, WOR, WWA, EOR, EWA, CA):\n",
    "        '''\n",
    "        Adds cubic volume equation assignments for each region to the Species class\n",
    "        '''\n",
    "        self.WOR_VOL = eval(\"Eq_\"+str(check_for_None(WOR)))\n",
    "        self.WWA_VOL = eval(\"Eq_\"+str(check_for_None(WWA)))\n",
    "        self.EOR_VOL = eval(\"Eq_\"+str(check_for_None(EOR)))\n",
    "        self.EWA_VOL = eval(\"Eq_\"+str(check_for_None(EWA)))\n",
    "        self.CA_VOL = eval(\"Eq_\"+str(check_for_None(CA)))\n",
    "    \n",
    "    def add_wood_specs(self, spec_grav, wood_dens):\n",
    "        '''\n",
    "        Adds specific gravity and wood density to the Species class\n",
    "        '''\n",
    "        self.spec_grav = spec_grav\n",
    "        self.wood_dens = wood_dens\n",
    "        \n",
    "    def add_bark(self, WOR, WWA, EOR, EWA, CA):\n",
    "        '''\n",
    "        Adds bark biomass equation assignments for each region to the Species class\n",
    "        ''' \n",
    "        self.WOR_BB = eval(\"Eq_\"+str(check_for_None(WOR)))\n",
    "        self.WWA_BB = eval(\"Eq_\"+str(check_for_None(WWA)))\n",
    "        self.EOR_BB = eval(\"Eq_\"+str(check_for_None(EOR)))\n",
    "        self.EWA_BB = eval(\"Eq_\"+str(check_for_None(EWA)))\n",
    "        self.CA_BB = eval(\"Eq_\"+str(check_for_None(CA)))\n",
    "    \n",
    "    def add_branch(self, WOR, WWA, EOR, EWA, CA):\n",
    "        '''\n",
    "        Adds live branch biomass equation assignments for each region to the Species class\n",
    "        '''\n",
    "        self.WOR_BLB = eval(\"Eq_\"+str(check_for_None(WOR)))\n",
    "        self.WWA_BLB = eval(\"Eq_\"+str(check_for_None(WWA)))\n",
    "        self.EOR_BLB = eval(\"Eq_\"+str(check_for_None(EOR)))\n",
    "        self.EWA_BLB = eval(\"Eq_\"+str(check_for_None(EWA)))\n",
    "        self.CA_BLB = eval(\"Eq_\"+str(check_for_None(CA)))"
   ]
  },
  {
   "cell_type": "code",
   "execution_count": 71,
   "metadata": {
    "collapsed": false
   },
   "outputs": [],
   "source": [
    "# read in the species codes provided by the user\n",
    "# includes the user's code, the FIA code, and the common_name\n",
    "species_crosswalk = pd.read_excel(\"Your_species_codes.xlsx\", \"Crosswalk\") \n",
    "species_used = species_crosswalk.dropna() # ignore species the user didn't provide in the crosswalk table"
   ]
  },
  {
   "cell_type": "code",
   "execution_count": 72,
   "metadata": {
    "collapsed": false
   },
   "outputs": [],
   "source": [
    "# read in the tables that describe which equations and wood parameters are required by ARB\n",
    "with pd.ExcelFile('ARB_Volume_and_Biomass_Tables.xlsx') as xlsx:\n",
    "    SW_VOL = pd.read_excel(xlsx, 'SW_Volume_equations', index_col= 'FIA_code')\n",
    "    HW_VOL = pd.read_excel(xlsx, 'HW_Volume_equations', index_col= 'FIA_code')    \n",
    "    VOL = pd.concat([SW_VOL, HW_VOL]) # concatenate all volume equation assignments\n",
    "    \n",
    "    SW_Wood = pd.read_excel(xlsx, 'SW_Wood_specs', index_col= 'FIA_code').drop('Common_name', axis=1)\n",
    "    HW_Wood = pd.read_excel(xlsx, 'HW_Wood_specs', index_col= 'FIA_code').drop('Common_name', axis=1)\n",
    "    Wood = pd.concat([SW_Wood, HW_Wood]) # concatenate all wood specifications\n",
    "    \n",
    "    VOL_Wood = pd.merge(VOL, Wood, left_index = True, right_index = True) # merge (outer join) volume equation assignments and wood specs on FIA_code\n",
    "    \n",
    "    SW_BB = pd.read_excel(xlsx, 'SW_Bark_biomass', index_col= 'FIA_code').drop('Common_name', axis=1)\n",
    "    HW_BB = pd.read_excel(xlsx, 'HW_Bark_biomass', index_col= 'FIA_code').drop('Common_name', axis=1)\n",
    "    BB = pd.concat([SW_BB, HW_BB]) # concatenate all bark biomass equation assigments\n",
    "    \n",
    "    SW_BLB = pd.read_excel(xlsx, 'SW_LiveBranch_biomass', index_col= 'FIA_code').drop('Common_name', axis=1)\n",
    "    HW_BLB = pd.read_excel(xlsx, 'HW_LiveBranch_biomass', index_col= 'FIA_code').drop('Common_name', axis=1)\n",
    "    BLB = pd.concat([SW_BLB, HW_BLB]) # concatenate all live branch biomass equation assignments\n",
    "    \n",
    "    BB_BLB = pd.merge(BB, BLB, left_index = True, right_index = True) # merge (outer join) bark and branch equation assignments on FIA_code\n",
    "    \n",
    "# merge all these into a single dataframe\n",
    "ARB_species_attributes = pd.merge(VOL_Wood, BB_BLB, left_index = True, right_index = True) "
   ]
  },
  {
   "cell_type": "code",
   "execution_count": 73,
   "metadata": {
    "collapsed": false
   },
   "outputs": [],
   "source": [
    "# create a dictionary that will hold all species provide by the user\n",
    "# the key to the dict is the species code provided by the user, the value is the Species class\n",
    "species_classes = {}\n",
    "\n",
    "# iterate through the rows in the user's crosswalk\n",
    "for index, row in species_used.iterrows():\n",
    "    \n",
    "    # create a class for the species, stored in the dictionary\n",
    "    species_classes[row.Your_species_code] = Species(row.FIA_code, row.Common_name, row.Wood_type)\n",
    "    \n",
    "    # add the attributes for those species by selecting the appropriate values from the species_attributes dataframe\n",
    "    \n",
    "    # gather the volume equation assignments\n",
    "    WOR_VOL = ARB_species_attributes.loc[row.FIA_code, 'WOR_VOL']\n",
    "    WWA_VOL = ARB_species_attributes.loc[row.FIA_code, 'WWA_VOL']\n",
    "    EOR_VOL = ARB_species_attributes.loc[row.FIA_code, 'EOR_VOL']\n",
    "    EWA_VOL = ARB_species_attributes.loc[row.FIA_code, 'EWA_VOL']\n",
    "    CA_VOL = ARB_species_attributes.loc[row.FIA_code, 'CA_VOL']\n",
    "    species_classes[row.Your_species_code].add_vols(WOR_VOL, WWA_VOL, EOR_VOL, EWA_VOL, CA_VOL) # add them to the class in the dictionary\n",
    "    \n",
    "    # gather the wood_specs\n",
    "    spec_grav = ARB_species_attributes.loc[row.FIA_code, 'Specific_gravity']\n",
    "    wood_dens = ARB_species_attributes.loc[row.FIA_code, 'Wood_density']\n",
    "    species_classes[row.Your_species_code].add_wood_specs(spec_grav, wood_dens) # add them to the class in the dictionary\n",
    "    \n",
    "    # gather the bark equation assignments\n",
    "    WOR_BB = ARB_species_attributes.loc[row.FIA_code, 'WOR_BB']\n",
    "    WWA_BB = ARB_species_attributes.loc[row.FIA_code, 'WWA_BB']\n",
    "    EOR_BB = ARB_species_attributes.loc[row.FIA_code, 'EOR_BB']\n",
    "    EWA_BB = ARB_species_attributes.loc[row.FIA_code, 'EWA_BB']\n",
    "    CA_BB = ARB_species_attributes.loc[row.FIA_code, 'CA_BB']\n",
    "    species_classes[row.Your_species_code].add_bark(WOR_BB, WWA_BB, EOR_BB, EWA_BB, CA_BB) # add them to the class in the dictionary\n",
    "    \n",
    "    # gather the live branch equation assignments\n",
    "    WOR_BLB = ARB_species_attributes.loc[row.FIA_code, 'WOR_BLB']\n",
    "    WWA_BLB = ARB_species_attributes.loc[row.FIA_code, 'WWA_BLB']\n",
    "    EOR_BLB = ARB_species_attributes.loc[row.FIA_code, 'EOR_BLB']\n",
    "    EWA_BLB = ARB_species_attributes.loc[row.FIA_code, 'EWA_BLB']\n",
    "    CA_BLB = ARB_species_attributes.loc[row.FIA_code, 'CA_BLB']\n",
    "    species_classes[row.Your_species_code].add_branch(WOR_BLB, WWA_BLB, EOR_BLB, EWA_BLB, CA_BLB) # add them to the class in the dictionary"
   ]
  },
  {
   "cell_type": "code",
   "execution_count": 129,
   "metadata": {
    "collapsed": false
   },
   "outputs": [],
   "source": [
    "def confirm_assignments():\n",
    "    '''\n",
    "    Prints all attributes (equations & wood specs) for all species provided by user.\n",
    "    Reproduces tables like original original ARB versions.\n",
    "    '''\n",
    "    def replace_func_with_name(x):\n",
    "        if callable(x):\n",
    "            name = x.func_name.split('_')[1]\n",
    "            if name == 'None':\n",
    "                return '--'\n",
    "            else:\n",
    "                return name\n",
    "        else:\n",
    "            return x\n",
    "    \n",
    "    confirm_eqs = pd.DataFrame(species_classes[spp].__dict__ for spp in pd.unique(species_used.Your_species_code)).applymap(replace_func_with_name)\n",
    "    print \"Volume Equations\"\n",
    "    print confirm_eqs[['code', 'common_name', 'WOR_VOL', 'WWA_VOL', 'EOR_VOL', 'EWA_VOL', 'CA_VOL']].to_string(index=False) + '\\n'\n",
    "    print \"Wood specifications\"\n",
    "    print confirm_eqs[['code', 'common_name', 'spec_grav', 'wood_dens']].to_string(index=False) + '\\n'\n",
    "    print \"Bark Biomass Equations\"\n",
    "    print confirm_eqs[['code', 'common_name', 'WOR_BB', 'WWA_BB', 'EOR_BB', 'EWA_BB', 'CA_BB']].to_string(index=False) + '\\n'\n",
    "    print \"Live Branch Biomass Equations\"\n",
    "    print confirm_eqs[['code', 'common_name', 'WOR_BLB', 'WWA_BLB', 'EOR_BLB', 'EWA_BLB', 'CA_BLB']].to_string(index=False) + '\\n'"
   ]
  }
 ],
 "metadata": {
  "kernelspec": {
   "display_name": "Python 2",
   "language": "python",
   "name": "python2"
  },
  "language_info": {
   "codemirror_mode": {
    "name": "ipython",
    "version": 2
   },
   "file_extension": ".py",
   "mimetype": "text/x-python",
   "name": "python",
   "nbconvert_exporter": "python",
   "pygments_lexer": "ipython2",
   "version": "2.7.10"
  }
 },
 "nbformat": 4,
 "nbformat_minor": 0
}
