{
 "cells": [
  {
   "cell_type": "code",
   "execution_count": 1,
   "metadata": {
    "collapsed": true
   },
   "outputs": [],
   "source": [
    "from ARB_Volume_Equations import *"
   ]
  },
  {
   "cell_type": "code",
   "execution_count": 2,
   "metadata": {
    "collapsed": true
   },
   "outputs": [],
   "source": [
    "# Creates a class that holds the equations and related attributes of equations to be used for each species.\n",
    "\n",
    "class Spp_eqs:\n",
    "    \n",
    "    def __init__(self, common_name = None, wood_type = None, WOR = None, WWA = None, EOR = None, EWA = None, CA = None):\n",
    "        '''\n",
    "        Instantiates the class containining information about a tree species with these inputs:\n",
    "        common_name: common name of the species (string)\n",
    "        wood_type: hardwood or softwood, entered as 'HW' or 'SW' (string)\n",
    "        WOR, WWA, EOR, EQ, CA: the equation number (or none) to be used for that species in that region\n",
    "        '''\n",
    "        self.name = common_name\n",
    "        self.wood_type = wood_type\n",
    "        \n",
    "        self.WOR = eval(\"Eq_\"+str(WOR))\n",
    "        self.WWA = eval(\"Eq_\"+str(WWA))\n",
    "        self.EOR = eval(\"Eq_\"+str(EOR))\n",
    "        self.EWA = eval(\"Eq_\"+str(EWA))\n",
    "        self.CA = eval(\"Eq_\"+str(CA))"
   ]
  },
  {
   "cell_type": "code",
   "execution_count": 5,
   "metadata": {
    "collapsed": false
   },
   "outputs": [],
   "source": [
    "# Creates all the classes for all species covered in the ARB publications for Oregon, Washington, and California\n",
    "# Assigns equations numbers to each species by region\n",
    "\n",
    "# SOFTWOODS\n",
    "SF = Spp_eqs(\"Pacific silver fir\", \"SW\", 11, 11, 10, 10, 11)\n",
    "BF = Spp_eqs(\"Bristlecone fir\", \"SW\", None, None, None, None, 18)\n",
    "WF = Spp_eqs(\"White fir\", \"SW\", 23, 11, 10, 10, 23)\n",
    "GF = Spp_eqs(\"Grand fir\", \"SW\", 11, 11, 10, 10, 23)\n",
    "AF = Spp_eqs(\"Subalpine fir\", \"SW\", 11, 11, 10, 10, 18)\n",
    "RF = Spp_eqs(\"California red fir\", \"SW\", 18, None, 10, None, 18)\n",
    "SH = Spp_eqs(\"Shasta red fir\", \"SW\", 18, None, 18, None, 18)\n",
    "NF = Spp_eqs(\"Noble fir\", \"SW\", 11, 11, 10, 10, 18)\n",
    "PC = Spp_eqs(\"Port-Orford-cedar\", \"SW\", 19, 19, 19, 19, 8)\n",
    "YC = Spp_eqs(\"Alaska-cedar\", \"SW\", 9, 9, 8, 8, 8)\n",
    "# All cypress species (Arizona, Baker, Monterey, Sargent's and McNabb Cypress) consolidated into one class\n",
    "CY = Spp_eqs(\"Cypress\", \"SW\", None, None, None, None, 19)\n",
    "CJ = Spp_eqs(\"California juniper\", \"SW\", None, None, None, None, 19)\n",
    "WJ = Spp_eqs(\"Western juniper\", \"SW\", 21, 21, 21, 21, 21)\n",
    "UJ = Spp_eqs(\"Utah juniper\", \"SW\", None, None, None, None, 14)\n",
    "RJ = Spp_eqs(\"Rocky mountain juniper\", \"SW\", None, None, 142, None, 142) # 3rd and 5th eqn are 14.2\n",
    "LL = Spp_eqs(\"Subalpine larch\", \"SW\", None, 22, 22, 22, None)\n",
    "WL = Spp_eqs(\"Western larch\", \"SW\", 22, 22, 22, 22, 22)\n",
    "IC = Spp_eqs(\"Incense-cedar\", \"SW\", 19, 19, 19, 19, 19)\n",
    "BR = Spp_eqs(\"Brewer spruce\", \"SW\", 13, None, 13, 13, 12)\n",
    "ES = Spp_eqs(\"Engelmann spruce\", \"SW\", 13, 13, 12, 12, 12)\n",
    "SS = Spp_eqs(\"Sitka spruce\", \"SW\", 13, 13, 13, 13, 12)\n",
    "WB = Spp_eqs(\"Whitebark pine\", \"SW\", 15, 15, 15, 15, 20)\n",
    "BC = Spp_eqs(\"Bristlecone pine\", \"SW\", None, None, None, None, 16)\n",
    "KP = Spp_eqs(\"Knobcone pine\", \"SW\", 15, 15, 15, None, 16)\n",
    "FP = Spp_eqs(\"Foxtail pine\", \"SW\", None, None, None, None, 16)\n",
    "LP = Spp_eqs(\"Lodgepole pine\", \"SW\", 15, 15, 15, 15, 16)\n",
    "CP = Spp_eqs(\"Coulter pine\", \"SW\", None, None, None, None, 5)\n",
    "LM = Spp_eqs(\"Limber pine\", \"SW\", None, None, 16, None, 16)\n",
    "JP = Spp_eqs(\"Jeffrey pine\", \"SW\", 5, None, 4, None, 5)\n",
    "SP = Spp_eqs(\"Sugar pine\", \"SW\", 20, None, 20, None, 20)\n",
    "WP = Spp_eqs(\"Western white pine\", \"SW\", 15, 15, 15, 15, 20)\n",
    "BP = Spp_eqs(\"Bishop pine\", \"SW\", 16, None, 16, None, 16)\n",
    "PP = Spp_eqs(\"Ponderosa pine\", \"SW\", 5, 4, 4, 4, 5)\n",
    "MP = Spp_eqs(\"Monterey pine\", \"SW\", None, None, None, None, 16)\n",
    "GP = Spp_eqs(\"Gray pine\", \"SW\", None, None, None, None, 5)\n",
    "ST = Spp_eqs(\"Scotch pine\", \"SW\", 15, None, None, None, None)\n",
    "PM = Spp_eqs(\"Singleleaf pinyon pine\", \"SW\", None, None, None, None, 141) # last eqn is 14.1\n",
    "WE = Spp_eqs(\"Washoe pine\", \"SW\", None, None, None, None, 5)\n",
    "GB = Spp_eqs(\"Great Basin bristlecone pine\", \"SW\", None, None, None, None, 16)\n",
    "BD = Spp_eqs(\"Bigcone Douglas-fir\", \"SW\", None, None, None, None, 3)\n",
    "DF = Spp_eqs(\"Douglas-fir\", \"SW\", 1, 1, 2, 2, 3)\n",
    "RW = Spp_eqs(\"Redwood\", \"SW\", 24, 24, 24, None, 24)\n",
    "GS = Spp_eqs(\"Giant Sequoia\", \"SW\", 24, None, 24, None, 24)\n",
    "PY = Spp_eqs(\"Pacific yew\", \"SW\", 9, 9, 8, 8, 8)\n",
    "RC = Spp_eqs(\"Western redcedar\", \"SW\", 9, 9, 8, 8, 8)\n",
    "CN = Spp_eqs(\"California nutmeg\", \"SW\", None, None, None, None, 8)\n",
    "WH = Spp_eqs(\"Western hemlock\", \"SW\", 6, 6, 6, 6, 6)\n",
    "MH = Spp_eqs(\"Mountain hemlock\", \"SW\", 17, 17, 17, 17, 17)\n",
    "XC = Spp_eqs(\"Unknown conifer\", \"SW\", 17, 17, 17, 17, 17)"
   ]
  }
 ],
 "metadata": {
  "kernelspec": {
   "display_name": "Python 2",
   "language": "python",
   "name": "python2"
  },
  "language_info": {
   "codemirror_mode": {
    "name": "ipython",
    "version": 2
   },
   "file_extension": ".py",
   "mimetype": "text/x-python",
   "name": "python",
   "nbconvert_exporter": "python",
   "pygments_lexer": "ipython2",
   "version": "2.7.10"
  }
 },
 "nbformat": 4,
 "nbformat_minor": 0
}
