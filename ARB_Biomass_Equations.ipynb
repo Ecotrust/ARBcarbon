{
 "cells": [
  {
   "cell_type": "code",
   "execution_count": 6,
   "metadata": {
    "collapsed": true
   },
   "outputs": [],
   "source": [
    "# Tree equations required by the California Air Resources Board (ARB)\n",
    "# Used to calculate tree biomass for projects located in California, Oregon, or Washington"
   ]
  },
  {
   "cell_type": "code",
   "execution_count": 7,
   "metadata": {
    "collapsed": true
   },
   "outputs": [],
   "source": [
    "# These equations were translated from the PDF availabe on the ARB website: \n",
    "# http://www.arb.ca.gov/cc/capandtrade/protocols/usforest/usforestprojects_2015.htm\n",
    "# These biomass equations were accessed from this page on May 11, 2016, and downloaded as a PDF\n",
    "# http://www.arb.ca.gov/cc/capandtrade/protocols/usforest/2015/biomass.equations.ca.or.wa.pdf"
   ]
  },
  {
   "cell_type": "code",
   "execution_count": 8,
   "metadata": {
    "collapsed": true
   },
   "outputs": [],
   "source": [
    "import math"
   ]
  },
  {
   "cell_type": "code",
   "execution_count": 9,
   "metadata": {
    "collapsed": true
   },
   "outputs": [],
   "source": [
    "# BARK EQUATIONS\n",
    "# All equations produce Biomass of Bark in Kilograms --- to convert to tons multiply by 0.0011023\n",
    "\n",
    "# *Log* in the equations is = NATURAL LOG\n",
    "# note that math.log() uses natural logarithm while math.log10() uses log base 10\n",
    "\n",
    "# Although only some equations utilize all the variables, all equations below take DBH, HT, and Wood Density as inputs"
   ]
  },
  {
   "cell_type": "code",
   "execution_count": 10,
   "metadata": {
    "collapsed": true
   },
   "outputs": [],
   "source": [
    "def BB_None(DBH = None, HT = None, wood_density = None):\n",
    "    return 0"
   ]
  },
  {
   "cell_type": "code",
   "execution_count": 11,
   "metadata": {
    "collapsed": true
   },
   "outputs": [],
   "source": [
    "def BB_1(DBH, HT = None, wood_density = None): # BIOPAK EQUATION 379\n",
    "    return math.exp(2.1069 + 2.7271 * math.log(DBH))/1000"
   ]
  },
  {
   "cell_type": "code",
   "execution_count": 12,
   "metadata": {
    "collapsed": true
   },
   "outputs": [],
   "source": [
    "def BB_2(DBH, HT, wood_density = None): # BIOPAK EQUATION 887\n",
    "    return 0.6 + 16.4 * (DBH/100)**2 * HT"
   ]
  },
  {
   "cell_type": "code",
   "execution_count": 13,
   "metadata": {
    "collapsed": true
   },
   "outputs": [],
   "source": [
    "def BB_3(DBH, HT, wood_density = None): # BIOPAK EQUATION 917\n",
    "    return 1.0 + 17.2 * (DBH/100)**2 * HT"
   ]
  },
  {
   "cell_type": "code",
   "execution_count": 14,
   "metadata": {
    "collapsed": true
   },
   "outputs": [],
   "source": [
    "def BB_4(DBH, HT = None, wood_density = None): # BIOPAK EQUATION 382\n",
    "    return math.exp(1.47146 + 2.8421 * math.log(DBH))/1000"
   ]
  },
  {
   "cell_type": "code",
   "execution_count": 15,
   "metadata": {
    "collapsed": true
   },
   "outputs": [],
   "source": [
    "def BB_5(DBH, HT = None, wood_density = None): # BIOPAK EQUATION 251\n",
    "    return math.exp(2.79189 +2.4313 * math.log(DBH))/1000"
   ]
  },
  {
   "cell_type": "code",
   "execution_count": 16,
   "metadata": {
    "collapsed": true
   },
   "outputs": [],
   "source": [
    "def BB_6(DBH, HT, wood_density = None): # BIOPAK EQUATION 845\n",
    "    return 1.3 + 12.6 * (DBH/100)**2 * HT"
   ]
  },
  {
   "cell_type": "code",
   "execution_count": 17,
   "metadata": {
    "collapsed": true
   },
   "outputs": [],
   "source": [
    "def BB_7(DBH, HT, wood_density = None): # BIOPAK EQUATION 875\n",
    "    return 4.5 + 9.3 * (DBH/100)**2 * HT"
   ]
  },
  {
   "cell_type": "code",
   "execution_count": 18,
   "metadata": {
    "collapsed": true
   },
   "outputs": [],
   "source": [
    "def BB_8(DBH, HT = None, wood_density = None): # BIOPAK EQUATION 5\n",
    "    return math.exp(-4.3103 + 2.4300 * math.log(DBH))"
   ]
  },
  {
   "cell_type": "code",
   "execution_count": 19,
   "metadata": {
    "collapsed": true
   },
   "outputs": [],
   "source": [
    "def BB_9(DBH, HT, wood_density = None): # BIOPAK EQUATION 705\n",
    "    return math.exp(-3.6263 + 1.34077 * math.log(DBH) + 0.8567 * math.log(HT))"
   ]
  },
  {
   "cell_type": "code",
   "execution_count": 20,
   "metadata": {
    "collapsed": true
   },
   "outputs": [],
   "source": [
    "def BB_10(DBH, HT = None, wood_density = None): # BIOPAK EQUATION 391\n",
    "    return math.exp(2.183174 + 2.6610 * math.log(DBH))/1000"
   ]
  },
  {
   "cell_type": "code",
   "execution_count": 21,
   "metadata": {
    "collapsed": true
   },
   "outputs": [],
   "source": [
    "def BB_11(DBH, HT, wood_density = None): # BIOPAK EQUATION 899\n",
    "    return 1.2 + 11.2 * (DBH/100)**2 * HT"
   ]
  },
  {
   "cell_type": "code",
   "execution_count": 22,
   "metadata": {
    "collapsed": true
   },
   "outputs": [],
   "source": [
    "def BB_12(DBH, HT = None, wood_density = None): # BIOPAK EQUATION 385\n",
    "    return math.exp(-13.3146 + 2.8594 * math.log(DBH))"
   ]
  },
  {
   "cell_type": "code",
   "execution_count": 23,
   "metadata": {
    "collapsed": true
   },
   "outputs": [],
   "source": [
    "def BB_13(DBH, HT, wood_density = None): # BIOPAK EQUATION 461\n",
    "    return 0.336 + 0.00058 * DBH**2 * HT"
   ]
  },
  {
   "cell_type": "code",
   "execution_count": 24,
   "metadata": {
    "collapsed": true
   },
   "outputs": [],
   "source": [
    "def BB_14(DBH, HT, wood_density = None): # BIOPAK EQUATION 904\n",
    "    return 3.2 + 9.1 * (DBH/100)**2 * HT"
   ]
  },
  {
   "cell_type": "code",
   "execution_count": 25,
   "metadata": {
    "collapsed": true
   },
   "outputs": [],
   "source": [
    "def BB_15(DBH, HT = None, wood_density = None): # BIOPAK EQUATION 174\n",
    "    return math.exp(-4.371 + 2.259 * math.log(DBH))"
   ]
  },
  {
   "cell_type": "code",
   "execution_count": 26,
   "metadata": {
    "collapsed": true
   },
   "outputs": [],
   "source": [
    "def BB_16(DBH, HT, wood_density = None): # BIOPAK EQUATION 54\n",
    "    return math.exp(-10.175 + 2.6333 * math.log(DBH * math.pi))"
   ]
  },
  {
   "cell_type": "code",
   "execution_count": 27,
   "metadata": {
    "collapsed": true
   },
   "outputs": [],
   "source": [
    "def BB_17(DBH, HT = None, wood_density = None): # BIOPAK EQUATION 394\n",
    "    return math.exp(7.189689 + 1.5837 * math.log(DBH))/1000"
   ]
  },
  {
   "cell_type": "code",
   "execution_count": 28,
   "metadata": {
    "collapsed": true
   },
   "outputs": [],
   "source": [
    "def BB_18(DBH, HT, wood_density = None): # BIOPAK EQUATION 942\n",
    "    return 1.3 + 27.6 * (DBH/100)**2 * HT"
   ]
  },
  {
   "cell_type": "code",
   "execution_count": 29,
   "metadata": {
    "collapsed": true
   },
   "outputs": [],
   "source": [
    "def BB_19(DBH = None, HT = None, wood_density = None):\n",
    "    return 0.0"
   ]
  },
  {
   "cell_type": "code",
   "execution_count": 30,
   "metadata": {
    "collapsed": true
   },
   "outputs": [],
   "source": [
    "def BB_20(DBH, HT = None, wood_density = None): # BIOPAK EQUATION 275\n",
    "    return math.exp(-4.6424 + 2.4617 * math.log(DBH))"
   ]
  },
  {
   "cell_type": "code",
   "execution_count": 31,
   "metadata": {
    "collapsed": true
   },
   "outputs": [],
   "source": [
    "def BB_21(DBH, HT, wood_density = None): # BIOPAK EQUATION 911\n",
    "    return 0.9 + 27.4 * (DBH/100)**2 * HT"
   ]
  },
  {
   "cell_type": "code",
   "execution_count": 32,
   "metadata": {
    "collapsed": true
   },
   "outputs": [],
   "source": [
    "def BB_22(DBH, HT, wood_density = None): # BIOPAK EQUATION 881\n",
    "    return 1.0 + 15.6 * (DBH/100)**2 * HT"
   ]
  },
  {
   "cell_type": "code",
   "execution_count": 33,
   "metadata": {
    "collapsed": true
   },
   "outputs": [],
   "source": [
    "def BB_23(DBH, HT, wood_density = None): # BIOPAK EQUATION 923\n",
    "    return 1.8 + 9.6 * (DBH/100)**2 * HT"
   ]
  },
  {
   "cell_type": "code",
   "execution_count": 34,
   "metadata": {
    "collapsed": true
   },
   "outputs": [],
   "source": [
    "def BB_24(DBH, HT, wood_density = None): # BIOPAK EQUATION 893\n",
    "    return 2.4 + 15.0 * (DBH/100)**2 * HT"
   ]
  },
  {
   "cell_type": "code",
   "execution_count": 35,
   "metadata": {
    "collapsed": true
   },
   "outputs": [],
   "source": [
    "def BB_25(DBH, HT, wood_density = None): # BIOPAK EQUATION 857\n",
    "    return 3.6 + 18.2 * (DBH/100)**2 * HT"
   ]
  },
  {
   "cell_type": "code",
   "execution_count": 36,
   "metadata": {
    "collapsed": true
   },
   "outputs": [],
   "source": [
    "def BB_26(DBH, HT, wood_density = None): # BIOPAK EQUATION 455\n",
    "    return -0.025 + 0.00134 * DBH**2 * HT"
   ]
  },
  {
   "cell_type": "code",
   "execution_count": 37,
   "metadata": {
    "collapsed": true
   },
   "outputs": [],
   "source": [
    "def BB_27(DBH, HT, wood_density = None): # BIOPAK EQUATION 948\n",
    "    return -1.2 + 29.1 * (DBH/100)**2 * HT"
   ]
  },
  {
   "cell_type": "code",
   "execution_count": 38,
   "metadata": {
    "collapsed": true
   },
   "outputs": [],
   "source": [
    "def BB_28(DBH, HT, wood_density = None): # BIOPAK EQUATION 930\n",
    "    return 1.2 + 15.5 * (DBH/100)**2 * HT"
   ]
  },
  {
   "cell_type": "code",
   "execution_count": 39,
   "metadata": {
    "collapsed": true
   },
   "outputs": [],
   "source": [
    "def BB_29(DBH, HT, wood_density): # Bigleaf maple\n",
    "    ADBH = (DBH - 0.21235)/0.94782\n",
    "    OUTERVOL = 0.0000246916 * (ADBH**2.354347 * (HT**0.69586))\n",
    "    INNERVOL = 0.0000246916 * (DBH**2.354347 * (HT**0.69586))\n",
    "    return (OUTERVOL - INNERVOL) * 35.30 * wood_density/2.2046"
   ]
  },
  {
   "cell_type": "code",
   "execution_count": 40,
   "metadata": {
    "collapsed": true
   },
   "outputs": [],
   "source": [
    "def BB_30(DBH, HT, wood_density): # California Black Oak\n",
    "    ADBH = (DBH + 0.68133)/0.95767\n",
    "    OUTERVOL = 0.0000386403 * (ADBH**2.12635 * (HT**0.83339))\n",
    "    INNERVOL = 0.0000386403 * (DBH**2.12635 * (HT**0.83339))\n",
    "    return (OUTERVOL - INNERVOL) * 35.30 * wood_density/2.2046"
   ]
  },
  {
   "cell_type": "code",
   "execution_count": 41,
   "metadata": {
    "collapsed": true
   },
   "outputs": [],
   "source": [
    "def BB_31(DBH, HT, wood_density): # Canyon Live Oak\n",
    "    ADBH = (DBH + 0.48584)/0.96147\n",
    "    OUTERVOL = 0.0000248325 * (ADBH**2.32519 * (HT**0.74348))\n",
    "    INNERVOL = 0.0000248325 * (DBH**2.32519 * (HT**0.74348))\n",
    "    return (OUTERVOL - INNERVOL) * 35.30 * wood_density/2.2046"
   ]
  },
  {
   "cell_type": "code",
   "execution_count": 42,
   "metadata": {
    "collapsed": true
   },
   "outputs": [],
   "source": [
    "def BB_32(DBH, HT, wood_density): # Golden Chinkapin\n",
    "    ADBH = (DBH - 0.39534)/0.90182\n",
    "    OUTERVOL = 0.000056884 * (ADBH**2.07202 * (HT**0.77467))\n",
    "    INNERVOL = 0.000056884 * (DBH**2.07202 * (HT**0.77467))\n",
    "    return (OUTERVOL - INNERVOL) * 35.30 * wood_density/2.2046"
   ]
  },
  {
   "cell_type": "code",
   "execution_count": 43,
   "metadata": {
    "collapsed": true
   },
   "outputs": [],
   "source": [
    "def BB_33(DBH, HT, wood_density): # California Laurel\n",
    "    ADBH = (DBH + 0.32491)/0.96579\n",
    "    OUTERVOL = 0.0000237733 * (ADBH**2.05910 * (HT**1.05293))\n",
    "    INNERVOL = 0.0000237733 * (DBH**2.05910 * (HT**1.05293))\n",
    "    return (OUTERVOL - INNERVOL) * 35.30 * wood_density/2.2046"
   ]
  },
  {
   "cell_type": "code",
   "execution_count": 44,
   "metadata": {
    "collapsed": true
   },
   "outputs": [],
   "source": [
    "def BB_34(DBH, HT, wood_density): # Pacific Madrone\n",
    "    ADBH = (DBH + 0.03425)/0.98155\n",
    "    OUTERVOL = 0.0000378129 * (ADBH**1.99295 * (HT**1.01532))\n",
    "    INNERVOL = 0.0000378129 * (DBH**1.99295 * (HT**1.01532))\n",
    "    return (OUTERVOL - INNERVOL) * 35.30 * wood_density/2.2046"
   ]
  },
  {
   "cell_type": "code",
   "execution_count": 45,
   "metadata": {
    "collapsed": true
   },
   "outputs": [],
   "source": [
    "def BB_35(DBH, HT, wood_density): # Oregon White Oak\n",
    "    ADBH = (DBH + 0.78034)/0.95956\n",
    "    OUTERVOL = 0.0000236325 * (ADBH**2.25575 * (HT**0.87108))\n",
    "    INNERVOL = 0.0000236325 * (DBH**2.25575 * (HT**0.87108))\n",
    "    return (OUTERVOL - INNERVOL) * 35.30 * wood_density/2.2046"
   ]
  },
  {
   "cell_type": "code",
   "execution_count": 46,
   "metadata": {
    "collapsed": true
   },
   "outputs": [],
   "source": [
    "def BB_36(DBH, HT, wood_density): # Tanoak\n",
    "    ADBH = (DBH + 4.1177)/0.95354\n",
    "    OUTERVOL = 0.0000081905 * (ADBH**2.19576 * (HT**1.14078))\n",
    "    INNERVOL = 0.0000081905 * (DBH**2.19576 * (HT**1.14078))\n",
    "    return (OUTERVOL - INNERVOL) * 35.30 * wood_density/2.2046"
   ]
  },
  {
   "cell_type": "code",
   "execution_count": 47,
   "metadata": {
    "collapsed": true
   },
   "outputs": [],
   "source": [
    "def BB_37(DBH, HT, wood_density): # Blue Oak\n",
    "    ADBH = (DBH + 0.44003)/0.95354\n",
    "    OUTERVOL = 0.0000204864 * (ADBH**2.53987 * (HT**0.50591))\n",
    "    INNERVOL = 0.0000204864 * (DBH**2.53987 * (HT**0.50591))\n",
    "    return (OUTERVOL - INNERVOL) * 35.30 * wood_density/2.2046"
   ]
  },
  {
   "cell_type": "code",
   "execution_count": 48,
   "metadata": {
    "collapsed": true
   },
   "outputs": [],
   "source": [
    "def BB_38(DBH, HT, wood_density): # BIOPAK EQUATION ???\n",
    "    return 3.3 + 9.0 * (DBH/100)**2 * HT"
   ]
  },
  {
   "cell_type": "code",
   "execution_count": 49,
   "metadata": {
    "collapsed": true
   },
   "outputs": [],
   "source": [
    "def BB_39(DBH, HT, wood_density): # BIOPAK EQUATION 936\n",
    "    return -1.2 + 24.0 * (DBH/100)**2 * HT"
   ]
  },
  {
   "cell_type": "code",
   "execution_count": 50,
   "metadata": {
    "collapsed": true
   },
   "outputs": [],
   "source": [
    "# LIVE BRANCH BIOMASS EQUATIONS\n",
    "# All equations produce Biomass of Live Branches in Kilograms --- to convert to tons multiply by 0.0011023\n",
    "\n",
    "# *Log* in the equations is = NATURAL LOG\n",
    "# note that math.log() uses natural logarithm while math.log10() uses log base 10\n",
    "\n",
    "# Although only some equations utilize both DBH and HT, all equations include both as inputs"
   ]
  },
  {
   "cell_type": "code",
   "execution_count": 51,
   "metadata": {
    "collapsed": true
   },
   "outputs": [],
   "source": [
    "def BLB_None(DBH = None, HT = None):\n",
    "    return 0"
   ]
  },
  {
   "cell_type": "code",
   "execution_count": 52,
   "metadata": {
    "collapsed": true
   },
   "outputs": [],
   "source": [
    "def BLB_1(DBH, HT): # BIOPAK EQUATION 889\n",
    "    return 13.0 + 12.4 * (DBH/100)**2 * HT"
   ]
  },
  {
   "cell_type": "code",
   "execution_count": 53,
   "metadata": {
    "collapsed": true
   },
   "outputs": [],
   "source": [
    "def BLB_2(DBH, HT): # BIOPAK EQUATION 919\n",
    "    return 3.6 + 44.2 * (DBH/100)**2 * HT"
   ]
  },
  {
   "cell_type": "code",
   "execution_count": 54,
   "metadata": {
    "collapsed": true
   },
   "outputs": [],
   "source": [
    "def BLB_3(DBH, HT = None): # BIOPAK EQUATION 28\n",
    "    return math.exp(-4.1817 + 2.3324 * math.log(DBH))"
   ]
  },
  {
   "cell_type": "code",
   "execution_count": 55,
   "metadata": {
    "collapsed": true
   },
   "outputs": [],
   "source": [
    "def BLB_4(DBH, HT): # BIOPAK EQUATION 877\n",
    "    return 16.8 + 14.4 * (DBH/100)**2 * HT"
   ]
  },
  {
   "cell_type": "code",
   "execution_count": 56,
   "metadata": {
    "collapsed": false
   },
   "outputs": [],
   "source": [
    "def BLB_5(DBH, HT): # BIOPAK EQUATION 847\n",
    "    return 9.7 + 22.0 * (DBH/100)**2 * HT"
   ]
  },
  {
   "cell_type": "code",
   "execution_count": 57,
   "metadata": {
    "collapsed": true
   },
   "outputs": [],
   "source": [
    "def BLB_6(DBH, HT = None): # BIOPAK EQUATION 2\n",
    "    return math.exp(-3.6941 + 2.1382 * math.log(DBH))"
   ]
  },
  {
   "cell_type": "code",
   "execution_count": 58,
   "metadata": {
    "collapsed": true
   },
   "outputs": [],
   "source": [
    "def BLB_7(DBH, HT): # BIOPAK EQUATION 702\n",
    "    return math.exp(-4.1068 + 1.5177 * math.log(DBH) + 1.0424 * math.log(HT))"
   ]
  },
  {
   "cell_type": "code",
   "execution_count": 59,
   "metadata": {
    "collapsed": true
   },
   "outputs": [],
   "source": [
    "def BLB_8(DBH, HT = None): \n",
    "    return math.exp(-7.637 + 3.3648 * math.log(DBH))"
   ]
  },
  {
   "cell_type": "code",
   "execution_count": 60,
   "metadata": {
    "collapsed": true
   },
   "outputs": [],
   "source": [
    "def BLB_9(DBH, HT): # BIOPAK EQUATION 901\n",
    "    return 9.5 + 16.8 * (DBH/100)**2 * HT"
   ]
  },
  {
   "cell_type": "code",
   "execution_count": 61,
   "metadata": {
    "collapsed": true
   },
   "outputs": [],
   "source": [
    "def BLB_10(DBH, HT): # BIOPAK EQUATION 459\n",
    "    return 0.199 + 0.00381 * DBH**2 * HT"
   ]
  },
  {
   "cell_type": "code",
   "execution_count": 62,
   "metadata": {
    "collapsed": true
   },
   "outputs": [],
   "source": [
    "def BLB_11(DBH, HT): # BIOPAK EQUATION 907\n",
    "    return 7.8 + 12.3 * (DBH/100)**2 * HT"
   ]
  },
  {
   "cell_type": "code",
   "execution_count": 63,
   "metadata": {
    "collapsed": true
   },
   "outputs": [],
   "source": [
    "def BLB_12(DBH, HT = None): \n",
    "    return math.exp(-4.570 + 2.271 * math.log(DBH))"
   ]
  },
  {
   "cell_type": "code",
   "execution_count": 64,
   "metadata": {
    "collapsed": true
   },
   "outputs": [],
   "source": [
    "def BLB_13(DBH, HT = None): # BIOPAK EQUATION 51\n",
    "    return math.exp(-7.2775 + 2.3337 * math.log(DBH * math.pi))"
   ]
  },
  {
   "cell_type": "code",
   "execution_count": 65,
   "metadata": {
    "collapsed": true
   },
   "outputs": [],
   "source": [
    "def BLB_14(DBH, HT): # BIOPAK EQUATION 944\n",
    "    return 1.7 + 26.2 * (DBH/100)**2 * HT"
   ]
  },
  {
   "cell_type": "code",
   "execution_count": 66,
   "metadata": {
    "collapsed": true
   },
   "outputs": [],
   "source": [
    "def BLB_15(DBH, HT): # BIOPAK EQUATION 932\n",
    "    return 2.5 + 36.8 * (DBH/100)**2 * HT"
   ]
  },
  {
   "cell_type": "code",
   "execution_count": 67,
   "metadata": {
    "collapsed": true
   },
   "outputs": [],
   "source": [
    "def BLB_16(DBH, HT = None):\n",
    "    BF = (math.exp(-4.5648 + 2.6232 * math.log(DBH))) * 1/(2.7638 + 0.062 * DBH**1.3364)\n",
    "    return math.exp(-4.5648 + 2.6232 * math.log(DBH)) - BF   "
   ]
  },
  {
   "cell_type": "code",
   "execution_count": 68,
   "metadata": {
    "collapsed": true
   },
   "outputs": [],
   "source": [
    "def BLB_17(DBH, HT = None):\n",
    "    return math.exp(-5.2581 + 2.6045 * math.log(DBH))"
   ]
  },
  {
   "cell_type": "code",
   "execution_count": 69,
   "metadata": {
    "collapsed": true
   },
   "outputs": [],
   "source": [
    "def BLB_18(DBH, HT): # BIOPAK EQUATION 883\n",
    "    return 4.5 + 22.7 * (DBH/100)**2 * HT"
   ]
  },
  {
   "cell_type": "code",
   "execution_count": 70,
   "metadata": {
    "collapsed": true
   },
   "outputs": [],
   "source": [
    "def BLB_19(DBH, HT): # BIOPAK EQUATION 925\n",
    "    return 5.3 + 9.7 * (DBH/100)**2 * HT"
   ]
  },
  {
   "cell_type": "code",
   "execution_count": 71,
   "metadata": {
    "collapsed": true
   },
   "outputs": [],
   "source": [
    "def BLB_20(DBH, HT): # BIOPAK EQUATION 895\n",
    "    return 20.4 + 7.7 * (DBH/100)**2 * HT"
   ]
  },
  {
   "cell_type": "code",
   "execution_count": 72,
   "metadata": {
    "collapsed": true
   },
   "outputs": [],
   "source": [
    "def BLB_21(DBH, HT): # BIOPAK EQUATION 446\n",
    "    return 0.626 + 0.00079 * DBH**2 * HT"
   ]
  },
  {
   "cell_type": "code",
   "execution_count": 73,
   "metadata": {
    "collapsed": true
   },
   "outputs": [],
   "source": [
    "def BLB_22(DBH, HT): # BIOPAK EQUATION 859\n",
    "    return 12.6 + 23.5 * (DBH/100)**2 * HT"
   ]
  },
  {
   "cell_type": "code",
   "execution_count": 74,
   "metadata": {
    "collapsed": true
   },
   "outputs": [],
   "source": [
    "def BLB_23(DBH, HT): # Weyerhaeuser Co Equation\n",
    "    return 0.047 + 0.00413 * DBH**2 * HT"
   ]
  },
  {
   "cell_type": "code",
   "execution_count": 75,
   "metadata": {
    "collapsed": true
   },
   "outputs": [],
   "source": [
    "def BLB_24(DBH, HT): # BIOPAK EQUATION 913\n",
    "    return 4.2 + 17.4 * (DBH/100)**2 * HT"
   ]
  },
  {
   "cell_type": "code",
   "execution_count": 76,
   "metadata": {
    "collapsed": true
   },
   "outputs": [],
   "source": [
    "def BLB_25(DBH, HT): # BIOPAK EQUATION 950\n",
    "    return -0.6 + 45.1 * (DBH/100)**2 * HT"
   ]
  },
  {
   "cell_type": "code",
   "execution_count": 77,
   "metadata": {
    "collapsed": true
   },
   "outputs": [],
   "source": [
    "def BLB_26(DBH, HT): # BIOPAK EQUATION 938\n",
    "    return 8.1 + 21.5 * (DBH/100)**2 * HT"
   ]
  },
  {
   "cell_type": "code",
   "execution_count": 78,
   "metadata": {
    "collapsed": true
   },
   "outputs": [],
   "source": [
    "def BLB_27(DBH, HT = None): # Snell et al. 1983, Bigleaf maple\n",
    "    return math.exp(4.0543553 + 2.1505 * math.log(DBH))*(1-1/(4.6762 + 0.0163 * DBH**2.039))/1000"
   ]
  },
  {
   "cell_type": "code",
   "execution_count": 79,
   "metadata": {
    "collapsed": true
   },
   "outputs": [],
   "source": [
    "def BLB_28(DBH, HT): # Snell et al. 1983, Pacific madrone\n",
    "    return math.exp(3.0136553 + 2.4839 * math.log(DBH))*(1-1/(1.6013 + 0.1060 * DBH**1.309))/1000"
   ]
  },
  {
   "cell_type": "code",
   "execution_count": 80,
   "metadata": {
    "collapsed": true
   },
   "outputs": [],
   "source": [
    "def BLB_29(DBH, HT): # Snell et al. 1983, Giant chinkapin\n",
    "    return math.exp(3.1980553 + 2.2699 * math.log(DBH))*(1-1/(1.6048 + 0.2979 * DBH**0.6828))/1000"
   ]
  },
  {
   "cell_type": "code",
   "execution_count": 81,
   "metadata": {
    "collapsed": true
   },
   "outputs": [],
   "source": [
    "def check_BB(DBH = None, HT = None, wood_density = None, BB_eqn = BB_None):\n",
    "    '''\n",
    "    catches zeroes in DBH or HT that will cause a math error when attempting to take the log\n",
    "    '''\n",
    "    if DBH <= 0 or HT <=0:\n",
    "        return 0\n",
    "    else:\n",
    "        return BB_eqn(DBH, HT, wood_density)"
   ]
  },
  {
   "cell_type": "code",
   "execution_count": 82,
   "metadata": {
    "collapsed": true
   },
   "outputs": [],
   "source": [
    "def check_BLB(DBH = None, HT = None, BLB_eqn = BLB_None):\n",
    "    '''\n",
    "    catches zeroes in DBH or HT that will cause a math error when attempting to take the log\n",
    "    '''\n",
    "    if DBH <= 0 or HT <=0:\n",
    "        return 0\n",
    "    else:\n",
    "        return BLB_eqn(DBH, HT)"
   ]
  },
  {
   "cell_type": "code",
   "execution_count": null,
   "metadata": {
    "collapsed": true
   },
   "outputs": [],
   "source": [
    "def cairns(aboveground_biomass):\n",
    "    '''\n",
    "    Calculates belowground biomass as a function of aboveground biomass.\n",
    "    Derived from \"Equation 1\" in Cairns, Brown, Helmer & Baumgardner (1997), available online at\n",
    "    http://www.arb.ca.gov/cc/capandtrade/protocols/usforest/references/cairns1997.pdf\n",
    "    Aboveground biomass expected in units of kg, and returns units of kg.\n",
    "    '''\n",
    "    if aboveground_biomass <= 0:\n",
    "        return 0\n",
    "    else:\n",
    "        return math.exp(-1.085 +  0.9256 * math.log(aboveground_biomass)) # note that math.log is natural log"
   ]
  }
 ],
 "metadata": {
  "kernelspec": {
   "display_name": "Python 2",
   "language": "python",
   "name": "python2"
  },
  "language_info": {
   "codemirror_mode": {
    "name": "ipython",
    "version": 2
   },
   "file_extension": ".py",
   "mimetype": "text/x-python",
   "name": "python",
   "nbconvert_exporter": "python",
   "pygments_lexer": "ipython2",
   "version": "2.7.11"
  }
 },
 "nbformat": 4,
 "nbformat_minor": 0
}
