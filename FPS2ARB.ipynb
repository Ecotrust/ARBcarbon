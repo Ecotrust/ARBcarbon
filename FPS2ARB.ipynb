{
 "cells": [
  {
   "cell_type": "code",
   "execution_count": 1,
   "metadata": {
    "collapsed": false
   },
   "outputs": [
    {
     "data": {
      "text/plain": [
       "'\\nFPS2ARB.\\nFPS-to-ARB Carbon Calculation.\\nTakes two CSV files in current working directory that were exported from FPS \\n(Forest Planning and Projection System) database containing forest inventory \\ndata, calculates carbon storage for each tree, and documents the calculation \\nparameters and writes outputs to a new CSV file, one for each property \\ndetected in the FPS_ADMIN table/CSV.\\n\\nUsage:\\n    FPS2ARB.py [options]\\n    FPS2ARB.py [-h | --help]\\n    FPS2ARB.py [--version]\\n\\nOptions:\\n    -h --help  Show this screen\\n    --version  Show version\\n    --property <property>  Name of property to include\\n    --year <year>  Year for calculations to be made\\n    --region <region>  Region for equations (WOR, EOR, WWA, EWA, CA)\\n'"
      ]
     },
     "execution_count": 1,
     "metadata": {},
     "output_type": "execute_result"
    }
   ],
   "source": [
    "\"\"\"\n",
    "FPS2ARB.\n",
    "FPS-to-ARB Carbon Calculation.\n",
    "Takes two CSV files in current working directory that were exported from FPS \n",
    "(Forest Planning and Projection System) database containing forest inventory \n",
    "data, calculates carbon storage for each tree, and documents the calculation \n",
    "parameters and writes outputs to a new CSV file, one for each property \n",
    "detected in the FPS_ADMIN table/CSV.\n",
    "\n",
    "Usage:\n",
    "    FPS2ARB.py [options]\n",
    "    FPS2ARB.py [-h | --help]\n",
    "    FPS2ARB.py [--version]\n",
    "\n",
    "Options:\n",
    "    -h --help  Show this screen\n",
    "    --version  Show version\n",
    "    --property <property>  Name of property to include\n",
    "    --year <year>  Year for calculations to be made\n",
    "    --region <region>  Region for equations (WOR, EOR, WWA, EWA, CA)\n",
    "\"\"\""
   ]
  },
  {
   "cell_type": "code",
   "execution_count": 2,
   "metadata": {
    "collapsed": false
   },
   "outputs": [],
   "source": [
    "import os\n",
    "from docopt import docopt\n",
    "import pandas as pd\n",
    "import math\n",
    "import time\n",
    "from ARB_Volume_Equations import *\n",
    "from ARB_Biomass_Equations import *\n",
    "from ARB_Equation_Assignments import *"
   ]
  },
  {
   "cell_type": "code",
   "execution_count": null,
   "metadata": {
    "collapsed": false
   },
   "outputs": [],
   "source": [
    "if __name__ == \"__main__\":\n",
    "    \n",
    "    args = docopt(doc, version='1.0')\n",
    "\n",
    "    properties_to_run = args['--property']\n",
    "    report_yr = args['--year']\n",
    "    region = args['--region']"
   ]
  },
  {
   "cell_type": "code",
   "execution_count": 3,
   "metadata": {
    "collapsed": false
   },
   "outputs": [
    {
     "name": "stdout",
     "output_type": "stream",
     "text": [
      "Successfully read in DBHCLS and ADMIN tables.\n",
      "\n"
     ]
    }
   ],
   "source": [
    "    # Read in the CSV files that were exported from FPS\n",
    "    try:\n",
    "        FPS_DBHCLS = pd.read_csv('DBHCLS.csv')\n",
    "        FPS_ADMIN = pd.read_csv('ADMIN.csv')\n",
    "        print \"Successfully read in DBHCLS and ADMIN tables.\\n\" \n",
    "    except IOError:\n",
    "        print \"Could not find your DBHCLS and ADMIN CSV files. Please export them from your FPS database in to the same folder as this script.\\n\""
   ]
  },
  {
   "cell_type": "code",
   "execution_count": 4,
   "metadata": {
    "collapsed": false
   },
   "outputs": [],
   "source": [
    "    # stand_list, a dataframe of all stands in the ADMIN table\n",
    "    stand_list = FPS_ADMIN[['STD_ID', 'RPT_YR', 'MSMT_YR', 'Property', 'AREA_GIS', 'AREA_RPT']]\n",
    "    \n",
    "    # tree_list, a dataframe of all the trees in the DBHCLS table\n",
    "    tree_list = FPS_DBHCLS[['RPT_YR', 'STD_ID', 'PlotTree', 'GRP', 'SPECIES', 'TREES', 'DBH', 'HEIGHT']]\n",
    "    \n",
    "    # add Property Name and GIS_Area to tree_list\n",
    "    tree_list = tree_list.merge(stand_list[['STD_ID', 'AREA_GIS', 'AREA_RPT', 'Property']], on='STD_ID')"
   ]
  },
  {
   "cell_type": "code",
   "execution_count": 5,
   "metadata": {
    "collapsed": true
   },
   "outputs": [],
   "source": [
    "# report_yr = None\n",
    "# properties_to_run = None\n",
    "# region = None"
   ]
  },
  {
   "cell_type": "code",
   "execution_count": 6,
   "metadata": {
    "collapsed": false
   },
   "outputs": [
    {
     "name": "stdout",
     "output_type": "stream",
     "text": [
      "3 properties found in the ADMIN table: Garibaldi, Dickey, Sooes\n",
      "\n",
      "Choose a property to run, or type ALL: Garibaldi\n",
      "Running carbon calculations for Garibaldi\n",
      "\n"
     ]
    }
   ],
   "source": [
    "    # Prompt user to specify a single property\n",
    "    all_properties = pd.unique(stand_list['Property']).tolist()\n",
    "    if not properties_to_run:\n",
    "        print str(len(all_properties)) + ' properties found in the ADMIN table:',\n",
    "        print ', '.join(str(prop) for prop in all_properties) + \"\\n\"\n",
    "        \n",
    "        while True:\n",
    "            chosen_prop = raw_input('Choose a property to run, or type ALL: ')\n",
    "            if chosen_prop.lower() == 'all':\n",
    "                properties_to_run = all_properties\n",
    "                print 'Running carbon calculations for all properties.\\n'\n",
    "                break\n",
    "            elif chosen_prop in all_properties:\n",
    "                properties_to_run = [chosen_prop]\n",
    "                print 'Running carbon calculations for ' + properties_to_run[0] + '\\n'\n",
    "                break\n",
    "            else:\n",
    "                print 'Property not recognized. Try again.\\n'"
   ]
  },
  {
   "cell_type": "code",
   "execution_count": 7,
   "metadata": {
    "collapsed": false
   },
   "outputs": [
    {
     "name": "stdout",
     "output_type": "stream",
     "text": [
      "Choose which regional volume equations to use (WOR, EOR, WWA, EWA, or CA): WOR\n",
      "All calculations to be done using WOR equations.\n",
      "\n"
     ]
    }
   ],
   "source": [
    "    # Prompt user to specify a region\n",
    "    if not region:\n",
    "        while True:\n",
    "            region = raw_input('Choose which regional volume equations to use (WOR, EOR, WWA, EWA, or CA): ')\n",
    "            if region in ['WOR', 'EOR', 'WWA', 'EWA', 'CA']:\n",
    "                print 'All calculations to be done using ' + region + ' equations.\\n'\n",
    "                break\n",
    "            else:\n",
    "                print 'Region not recognized. Try again.\\n'"
   ]
  },
  {
   "cell_type": "code",
   "execution_count": 8,
   "metadata": {
    "collapsed": false
   },
   "outputs": [
    {
     "name": "stdout",
     "output_type": "stream",
     "text": [
      "Choose a year to run (RPT_YR from DBHCLS table), or type ALL: 2015\n",
      "Running calculations for 2015 only.\n",
      "\n"
     ]
    }
   ],
   "source": [
    "    # Prompt user to specify a single report year\n",
    "    all_years = sorted(pd.unique(tree_list['RPT_YR']).tolist())\n",
    "    if not report_yr:\n",
    "        while True:\n",
    "            report_yr = raw_input('Choose a year to run (RPT_YR from DBHCLS table), or type ALL: ')\n",
    "            if report_yr.lower() == 'all':\n",
    "                report_yr = all_years\n",
    "                print 'Running all years.\\n'\n",
    "                break\n",
    "            elif int(report_yr) in all_years:\n",
    "                report_yr = [int(report_yr)]\n",
    "                print 'Running calculations for ' + str(report_yr[0]) + ' only.\\n'\n",
    "                break\n",
    "            else: \n",
    "                print report_yr + ' not found in DBHCLS table. Try again using one of these:'\n",
    "                print ', '.join(str(yr) for yr in all_years) + '\\n'"
   ]
  },
  {
   "cell_type": "code",
   "execution_count": 9,
   "metadata": {
    "collapsed": false
   },
   "outputs": [
    {
     "name": "stdout",
     "output_type": "stream",
     "text": [
      "Found 17 species in the species crosswalk spreadsheet and 21 species in the FPS DBHCLS table.\n",
      "\n",
      "4 species found in the FPS DBHCLS table but missing from the species crosswalk spreadsheet will not have carbon storage calculated:\n",
      "(CB, CQ, CW, NT)\n",
      "\n"
     ]
    }
   ],
   "source": [
    "    # check if all species are recognized from user's crosswalk table\n",
    "    DBHCLS_spp = pd.unique(FPS_DBHCLS.SPECIES) # the species found in the FPS Database\n",
    "    spp_used_list = species_used.Your_species_code.tolist() # species found in the user's crosswalk table\n",
    "    print \"Found \" + str(len(species_used)) + \" species in the species crosswalk spreadsheet and \" + str(len(DBHCLS_spp)) + \" species in the FPS DBHCLS table.\\n\"\n",
    "    # if not, list the species that are not recognized \n",
    "    missing_spp = [spp for spp in DBHCLS_spp if spp not in spp_used_list] # species_used comes from crosswalk table, in ARB_Equation_Assignments script\n",
    "    if len(missing_spp) >0:\n",
    "        print str(len(missing_spp)) + \" species found in the FPS DBHCLS table but missing from the species crosswalk spreadsheet will not have carbon storage calculated:\"\n",
    "        print \"(\" + ', '.join(str(spp) for spp in missing_spp) + \")\\n\"\n",
    "    else:\n",
    "        print \"All species will have carbon calculations.\\n\""
   ]
  },
  {
   "cell_type": "code",
   "execution_count": 10,
   "metadata": {
    "collapsed": false
   },
   "outputs": [],
   "source": [
    "    # hold out RPT_YR years that were not requested by user\n",
    "    tree_list = tree_list.loc[tree_list['RPT_YR'].isin(report_yr)] # only include trees from that year\n",
    "        \n",
    "    # hold out trees from any properties not requested by user\n",
    "    stands_in_properties_to_run = pd.unique(stand_list['STD_ID'].loc[stand_list['Property'].isin(properties_to_run)]).tolist()\n",
    "    tree_list = tree_list.loc[tree_list['STD_ID'].isin(stands_in_properties_to_run)]\n",
    "            \n",
    "    # hold out any trees that were not in species crosswalk spreadsheet\n",
    "    if len(missing_spp) >0:\n",
    "        missing_trees = tree_list.loc[tree_list['SPECIES'].isin(missing_spp)]\n",
    "        tree_list = tree_list.loc[~tree_list['SPECIES'].isin(missing_spp)]\n",
    "        \n",
    "    # hold out any trees that are not living, based on a GRP code \n",
    "    live_trees = ['..', '.R', '.I', '.L', '.W'] # codes for live, residual, ingrowth, leave, and wildlife trees\n",
    "    dead_trees = tree_list.loc[~tree_list['GRP'].isin(live_trees)] # trees with codes other than live_trees\n",
    "    tree_list = tree_list.loc[tree_list['GRP'].isin(live_trees)] # trees only with recognized live_trees codes"
   ]
  },
  {
   "cell_type": "code",
   "execution_count": 11,
   "metadata": {
    "collapsed": false
   },
   "outputs": [],
   "source": [
    "    # add new columns to the tree_list for individual trees:\n",
    "    \n",
    "    # add the FIA region being used\n",
    "    tree_list['FIA_Region'] = region\n",
    "    \n",
    "    # record the ARB Volume Equation Number to be used for each tree\n",
    "    tree_list['Vol_Eq'] = tree_list['SPECIES'].apply(lambda x: getattr(species_classes[x], region+'_VOL').__name__.split('_')[1])\n",
    "    # species_classe is a dictionary from ARB_Equation_Assignments.py\n",
    "    # species_classes contains class objects with attributes for each species such as the volume and biomass equation numbers, etc.  \n",
    "    \n",
    "    # calculate Total Cubic Volume (CVTS, cubic volume including top and stump) for each tree\n",
    "    def get_vol(row):\n",
    "        return getattr(species_classes[row.SPECIES], region+'_VOL')().calc(row.DBH, row.HEIGHT, 'CVTS')\n",
    "    tree_list['CVTS_ft3'] = tree_list.apply(get_vol, axis = 1) # calculate cubic volume for each row\n",
    "    \n",
    "    # calculate boardfoot volume for each tree\n",
    "    def get_BF(row):\n",
    "        if getattr(species_classes[row.SPECIES], 'wood_type') == 'HW':\n",
    "            return getattr(species_classes[row.SPECIES], region+'_VOL')().calc(row.DBH, row.HEIGHT, 'SV816')\n",
    "        elif getattr(species_classes[row.SPECIES], 'wood_type') == 'SW' and region in ['WWA', 'WOR']:\n",
    "            return getattr(species_classes[row.SPECIES], region+'_VOL')().calc(row.DBH, row.HEIGHT, 'SV632')\n",
    "        elif getattr(species_classes[row.SPECIES], 'wood_type') == 'SW' and region in ['EWA', 'EOR', 'CA']:\n",
    "            return getattr(species_classes[row.SPECIES], region+'_VOL')().calc(row.DBH, row.HEIGHT, 'SV616')\n",
    "    tree_list['Scrib_BF'] = tree_list.apply(get_BF, axis = 1) # calculate scribner volume for each row\n",
    "    \n",
    "    # Wood Density and Stem Biomass, density in units of lbs/ft3 and cubic volume in ft3\n",
    "    tree_list['Wood_density_lbs_ft3'] = tree_list['SPECIES'].apply(lambda x: getattr(species_classes[x], 'wood_dens'))\n",
    "    tree_list['Stem_biomass_UStons'] = (tree_list['CVTS_ft3'] * tree_list['Wood_density_lbs_ft3'])/2000.0\n",
    "    tree_list['Stem_biomass_kg'] = (tree_list['CVTS_ft3'] * tree_list['Wood_density_lbs_ft3'])*0.453592\n",
    "    \n",
    "    # Bark biomass equation and calculation\n",
    "    tree_list['BarkBio_Eq'] = tree_list['SPECIES'].apply(lambda x: getattr(species_classes[x], region+'_BB').func_name.split('_')[1])\n",
    "    def get_bark_bio(row): # convert DBH and HT from English to Metric units\n",
    "        # equations use metric units, so convert DBH and HT from English to Metric units\n",
    "        # equations return units of kg\n",
    "        return check_BB(row.DBH*2.54, row.HEIGHT*0.3048, row.Wood_density_lbs_ft3, getattr(species_classes[row.SPECIES], region+'_BB'))\n",
    "    tree_list['Bark_biomass_kg'] = tree_list.apply(get_bark_bio, axis = 1)\n",
    "    \n",
    "    # Branch biomass equation and calculation\n",
    "    tree_list['BranchBio_Eq'] = tree_list['SPECIES'].apply(lambda x: getattr(species_classes[x], region+'_BLB').func_name.split('_')[1])\n",
    "    def get_branch_bio(row): \n",
    "        # equations use metric units, so convert DBH and HT from English to Metric units\n",
    "        # equations return units of kg\n",
    "        return check_BLB(row.DBH*2.54, row.HEIGHT*0.3048, getattr(species_classes[row.SPECIES], region+'_BLB'))\n",
    "    tree_list['Branch_biomass_kg'] = tree_list.apply(get_branch_bio, axis = 1)\n",
    "    \n",
    "    # Above-ground biomass\n",
    "    tree_list['Aboveground_biomass_kg'] = tree_list['Stem_biomass_kg'] + tree_list['Bark_biomass_kg'] + tree_list['Branch_biomass_kg']\n",
    "    \n",
    "    # Below-ground biomass, calculated using Cairns et al. (1997) Equation #1\n",
    "    tree_list['Belowground_biomass_kg'] = tree_list['Aboveground_biomass_kg'].apply(cairns)\n",
    "    \n",
    "    # Live CO2e for each tree\n",
    "    tree_list['AbovegroundLive_tCO2e'] = tree_list['Aboveground_biomass_kg'] / 1000.0 *  0.5 * 44.0/12.0\n",
    "    tree_list['BelowgroundLive_tCO2e'] = tree_list['Belowground_biomass_kg'] / 1000.0 *  0.5 * 44.0/12.0\n",
    "    tree_list['LiveTree_carbon_tCO2e'] = tree_list['AbovegroundLive_tCO2e'] + tree_list['BelowgroundLive_tCO2e']\n",
    "    \n",
    "    # Live tree carbon per acre\n",
    "    tree_list['AbovegroundLive_tCO2e_ac'] = tree_list['AbovegroundLive_tCO2e'] * tree_list['TREES']\n",
    "    tree_list['BelowgroundLive_tCO2e_ac'] = tree_list['BelowgroundLive_tCO2e'] * tree_list['TREES']\n",
    "    tree_list['LiveTree_carbon_tCO2e_ac'] = tree_list['LiveTree_carbon_tCO2e'] * tree_list['TREES']\n",
    "    \n",
    "    # Total carbon across property\n",
    "    tree_list['LiveTree_carbon_tCO2e_total_AreaGIS'] = tree_list['LiveTree_carbon_tCO2e_ac'] * tree_list['AREA_GIS']\n",
    "    tree_list['LiveTree_carbon_tCO2e_total_AreaRPT'] = tree_list['LiveTree_carbon_tCO2e_ac'] * tree_list['AREA_RPT']"
   ]
  },
  {
   "cell_type": "code",
   "execution_count": 12,
   "metadata": {
    "collapsed": false,
    "scrolled": true
   },
   "outputs": [],
   "source": [
    "    # add back in unrecognized species and dead_trees\n",
    "    tree_list = tree_list.append([missing_trees, dead_trees], ignore_index=True)"
   ]
  },
  {
   "cell_type": "code",
   "execution_count": 13,
   "metadata": {
    "collapsed": false
   },
   "outputs": [
    {
     "name": "stdout",
     "output_type": "stream",
     "text": [
      "FPS2ARB calculations completed. \n",
      "1 CSV file(s) successfully written to C:\\Users\\ddiaz\\GitHub\\ARBcarbon\\FPS2ARB_Outputs \n",
      "\n"
     ]
    }
   ],
   "source": [
    "    # sort the tree_list\n",
    "    tree_list = tree_list.sort_values(by = ['Property', 'RPT_YR', 'STD_ID', 'PlotTree'])\n",
    "    \n",
    "    # column order to use for CSV output\n",
    "    cols = ['Property', 'RPT_YR', 'STD_ID', 'AREA_GIS', 'AREA_RPT', 'PlotTree', 'GRP', 'SPECIES', 'DBH', 'HEIGHT', \n",
    "               'TREES', 'FIA_Region', 'Vol_Eq', 'BarkBio_Eq', 'BranchBio_Eq', 'CVTS_ft3', 'Scrib_BF',\n",
    "               'Wood_density_lbs_ft3', 'Stem_biomass_UStons', 'Stem_biomass_kg', 'Bark_biomass_kg',\n",
    "               'Branch_biomass_kg', 'Aboveground_biomass_kg', 'Belowground_biomass_kg', 'LiveTree_biomass_kg', \n",
    "               'AbovegroundLive_tCO2e', 'BelowgroundLive_tCO2e', 'LiveTree_carbon_tCO2e',\n",
    "               'AbovegroundLive_tCO2e_ac', 'BelowgroundLive_tCO2e_ac', 'LiveTree_carbon_tCO2e_ac',\n",
    "               'LiveTree_carbon_tCO2e_total_AreaGIS', 'LiveTree_carbon_tCO2e_total_AreaRPT']\n",
    "    \n",
    "    # write a separate CSV for each property in dataframe:\n",
    "    if not os.path.exists('FPS2ARB_Outputs'):\n",
    "        os.makedirs('FPS2ARB_Outputs')\n",
    "    \n",
    "    num_files = 0\n",
    "    for prop in properties_to_run:\n",
    "        tree_list.loc[tree_list['Property'] == prop].to_csv(os.getcwd() + '/FPS2ARB_Outputs/' + 'FPS2ARB_' + prop + '_' + time.strftime('%Y-%m-%d') + '.csv', columns = cols, index = False)\n",
    "        num_files += 1\n",
    "    \n",
    "    print 'FPS2ARB calculations completed. \\n' + str(num_files) + ' CSV file(s) successfully written to ' + os.getcwd() + '\\FPS2ARB_Outputs \\n'"
   ]
  }
 ],
 "metadata": {
  "anaconda-cloud": {},
  "kernelspec": {
   "display_name": "Python [Root]",
   "language": "python",
   "name": "Python [Root]"
  },
  "language_info": {
   "codemirror_mode": {
    "name": "ipython",
    "version": 2
   },
   "file_extension": ".py",
   "mimetype": "text/x-python",
   "name": "python",
   "nbconvert_exporter": "python",
   "pygments_lexer": "ipython2",
   "version": "2.7.12"
  }
 },
 "nbformat": 4,
 "nbformat_minor": 0
}
