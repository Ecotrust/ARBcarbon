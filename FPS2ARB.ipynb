{
 "cells": [
  {
   "cell_type": "code",
   "execution_count": 1,
   "metadata": {
    "collapsed": false
   },
   "outputs": [
    {
     "data": {
      "text/plain": [
       "'FPS2ARB.\\nFPS-to-ARB Carbon Calculation.\\nTakes two CSV files in current working directory that were exported from FPS \\n(Forest Planning and Projection System) database containing forest inventory \\ndata, calculates carbon storage for each tree, and documents the calculation \\nparameters and writes outputs to a new CSV file, one for each property \\ndetected in the FPS_ADMIN table/CSV.\\n\\nUsage:\\n    FPS2ARB.py [options]\\n    FPS2ARB.py [-h | --help]\\n    FPS2ARB.py [--version]\\n\\nOptions:\\n    -h --help  Show this screen\\n    --version  Show version\\n    --property <property>  Name of property to include\\n    --years <year>  Year for calculations to be made\\n    --region <region>  Region for equations (WOR, EOR, WWA, EWA, CA)\\n'"
      ]
     },
     "execution_count": 1,
     "metadata": {},
     "output_type": "execute_result"
    }
   ],
   "source": [
    "\"\"\"FPS2ARB.\n",
    "FPS-to-ARB Carbon Calculation.\n",
    "Takes two CSV files in current working directory that were exported from FPS \n",
    "(Forest Planning and Projection System) database containing forest inventory \n",
    "data, calculates carbon storage for each tree, and documents the calculation \n",
    "parameters and writes outputs to a new CSV file, one for each property \n",
    "detected in the FPS_ADMIN table/CSV.\n",
    "\n",
    "Usage:\n",
    "    FPS2ARB.py [options]\n",
    "    FPS2ARB.py [-h | --help]\n",
    "    FPS2ARB.py [--version]\n",
    "\n",
    "Options:\n",
    "    -h --help  Show this screen\n",
    "    --version  Show version\n",
    "    --property <property>  Name of property to include\n",
    "    --years <year>  Year for calculations to be made\n",
    "    --region <region>  Region for equations (WOR, EOR, WWA, EWA, CA)\n",
    "\"\"\""
   ]
  },
  {
   "cell_type": "code",
   "execution_count": 2,
   "metadata": {
    "collapsed": false
   },
   "outputs": [],
   "source": [
    "from docopt import docopt\n",
    "import pandas as pd\n",
    "import math\n",
    "from ARB_Volume_Equations import *\n",
    "from ARB_Biomass_Equations import *\n",
    "from ARB_Equation_Assignments import *"
   ]
  },
  {
   "cell_type": "code",
   "execution_count": null,
   "metadata": {
    "collapsed": false
   },
   "outputs": [],
   "source": [
    "if __name__ == \"__main__\":\n",
    "    \n",
    "    args = docopt(__doc__, version='1.0')\n",
    "\n",
    "    print args['--property']\n",
    "    properties_to_run = args['--property']\n",
    "    if not properties_to_run:\n",
    "        properties_to_run = 'all'\n",
    "    print properties_to_run\n",
    "    \n",
    "    report_yr = args['--year']\n",
    "    \n",
    "    region = args['--region']\n",
    "    if not region:\n",
    "        region = raw_input(\"Choose which regional equations to use (WOR, EOR, WWA, EWA, or CA):\")\n",
    "        print \"Thanks! All calculations to be done using \", region + \" equations\\n\""
   ]
  },
  {
   "cell_type": "code",
   "execution_count": 3,
   "metadata": {
    "collapsed": false
   },
   "outputs": [
    {
     "name": "stdout",
     "output_type": "stream",
     "text": [
      "Successfully read in DBHCLS and ADMIN tables.\n",
      "\n"
     ]
    }
   ],
   "source": [
    "    # Read in the CSV files that were exported from FPS\n",
    "    try:\n",
    "        FPS_DBHCLS = pd.read_csv('DBHCLS.csv')\n",
    "        FPS_ADMIN = pd.read_csv('ADMIN.csv')\n",
    "        print \"Successfully read in DBHCLS and ADMIN tables.\\n\" \n",
    "    except IOError:\n",
    "        print \"Could not find your DBHCLS and ADMIN CSV files. Please export them from your FPS database in to the same folder as this script.\\n\""
   ]
  },
  {
   "cell_type": "code",
   "execution_count": 4,
   "metadata": {
    "collapsed": false
   },
   "outputs": [
    {
     "name": "stdout",
     "output_type": "stream",
     "text": [
      "Found 14 species in the species crosswalk spreadsheet and 21 species in the DBHCLS table.\n",
      "\n",
      "7 species found in DBHCLS but missing from the crosswalk spreadsheet will not have carbon storage calculated:\n",
      "(CX, CH, HX, CB, CQ, CW, NT)\n",
      "\n"
     ]
    }
   ],
   "source": [
    "    # check if all species are recognized from user's crosswalk table\n",
    "    DBHCLS_spp = pd.unique(FPS_DBHCLS.SPECIES) # the species found in the FPS Database\n",
    "    spp_used_list = species_used.Your_species_code.tolist() # species found in the user's crosswalk table\n",
    "    print \"Found \" + str(len(species_used)) + \" species in the species crosswalk spreadsheet and \" + str(len(DBHCLS_spp)) + \" species in the DBHCLS table.\\n\"\n",
    "    # if not, list the species that are not recognized \n",
    "    missing_spp = [spp for spp in DBHCLS_spp if spp not in spp_used_list] # species_used comes from crosswalk table, in ARB_Equation_Assignments script\n",
    "    if len(missing_spp) >0:\n",
    "        print str(len(missing_spp)) + \" species found in DBHCLS but missing from the crosswalk spreadsheet will not have carbon storage calculated:\"\n",
    "        print \"(\" + ', '.join(str(spp) for spp in missing_spp) + \")\\n\"\n",
    "    else:\n",
    "        print \"All species will have carbon calculations.\\n\""
   ]
  },
  {
   "cell_type": "code",
   "execution_count": 5,
   "metadata": {
    "collapsed": false
   },
   "outputs": [],
   "source": [
    "    # tree_list, a dataframe of all the trees in the DBHCLS table\n",
    "    tree_list = FPS_DBHCLS[['STD_ID', 'RPT_YR', 'SPECIES', 'GRP', 'PlotTree', 'TREES', 'DBH', 'HEIGHT']].set_index('STD_ID')\n",
    "    \n",
    "    # hold out any trees that were not in species crosswalk spreadsheet\n",
    "    if len(missing_spp) >0:\n",
    "        tree_list = tree_list.loc[~tree_list['SPECIES'].isin(missing_spp)]\n",
    "        missing_trees = tree_list.loc[tree_list['SPECIES'].isin(missing_spp)]"
   ]
  },
  {
   "cell_type": "code",
   "execution_count": null,
   "metadata": {
    "collapsed": true
   },
   "outputs": [],
   "source": [
    "    if report_yr: # if the user specified a specific report year\n",
    "            tree_list = tree_list.loc[tree_list['RPT_YR'] == report_yr] # only include trees from that year"
   ]
  },
  {
   "cell_type": "code",
   "execution_count": 6,
   "metadata": {
    "collapsed": false
   },
   "outputs": [],
   "source": [
    "    # stand_list, a dataframe of all stands in the ADMIN table\n",
    "    stand_list = FPS_ADMIN[['STD_ID', 'RPT_YR', 'MSMT_YR', 'Property', 'AREA_RPT', 'AREA_GIS', 'AREA_NET']].set_index('STD_ID')"
   ]
  },
  {
   "cell_type": "code",
   "execution_count": 7,
   "metadata": {
    "collapsed": false
   },
   "outputs": [],
   "source": [
    "    region = 'WOR'\n",
    "    # add new columns to the tree_list:\n",
    "    \n",
    "    # Region\n",
    "    tree_list['FIA_Region'] = region\n",
    "    \n",
    "    # ARB Volume Equation Number & Total Cubic Volume (CVTS, cubic volume including top and stump)\n",
    "    tree_list['Vol_Eq'] = tree_list['SPECIES'].apply(lambda x: getattr(species_classes[x], region+'_VOL').func_name.split('_')[1])\n",
    "    \n",
    "    def get_vol(row):\n",
    "        return calc_vol(row.DBH, row.HEIGHT, 'CVTS', getattr(species_classes[row.SPECIES], region+'_VOL'))\n",
    "    tree_list['CVTS_ft3'] = tree_list.apply(get_vol, axis = 1) # calculate cubic volume for each row\n",
    "    \n",
    "    # Wood Density and Stem Biomass\n",
    "    # wood density in units of lbs/ft3 and cubic volume in ft3\n",
    "    tree_list['Wood_density_lbsft3'] = tree_list['SPECIES'].apply(lambda x: getattr(species_classes[x], 'wood_dens'))\n",
    "    tree_list['Stem_biomass_UStons'] = (tree_list['CVTS_ft3'] * tree_list['Wood_density_lbsft3'])/2000.0\n",
    "    tree_list['Stem_biomass_kg'] = (tree_list['CVTS_ft3'] * tree_list['Wood_density_lbsft3'])*0.453592\n",
    "    \n",
    "    # Bark biomass equation and calculation\n",
    "    tree_list['BarkBio_Eq'] = tree_list['SPECIES'].apply(lambda x: getattr(species_classes[x], region+'_BB').func_name.split('_')[1])\n",
    "    def get_bark_bio(row): # convert DBH and HT from English to Metric units\n",
    "        # equations use metric units, so convert DBH and HT from English to Metric units\n",
    "        # equations return units of kg\n",
    "        return check_BB(row.DBH*2.54, row.HEIGHT*0.3048, row.Wood_density_lbsft3, getattr(species_classes[row.SPECIES], region+'_BB'))\n",
    "    tree_list['Bark_biomass_kg'] = tree_list.apply(get_bark_bio, axis = 1)\n",
    "    \n",
    "    # Branch biomass equation and calculation\n",
    "    tree_list['BranchBio_Eq'] = tree_list['SPECIES'].apply(lambda x: getattr(species_classes[x], region+'_BLB').func_name.split('_')[1])\n",
    "    def get_branch_bio(row): \n",
    "        # equations use metric units, so convert DBH and HT from English to Metric units\n",
    "        # equations return units of kg\n",
    "        return check_BLB(row.DBH*2.54, row.HEIGHT*0.3048, getattr(species_classes[row.SPECIES], region+'_BLB'))\n",
    "    tree_list['Branch_biomass_kg'] = tree_list.apply(get_branch_bio, axis = 1)\n",
    "    \n",
    "    # Above-ground biomass\n",
    "    tree_list[\"Aboveground_biomass_kg\"] = tree_list['Stem_biomass_kg'] + tree_list['Bark_biomass_kg'] + tree_list['Branch_biomass_kg']\n",
    "    \n",
    "    # Below-ground biomass, calculated using Cairns et al. (1997) Equation #1\n",
    "    tree_list[\"Belowground_biomass_kg\"] = tree_list[\"Aboveground_biomass_kg\"].apply(cairns)\n",
    "    \n",
    "    # Total live tree biomass\n",
    "    tree_list[\"LiveTree_biomass_kg\"] = tree_list[\"Aboveground_biomass_kg\"] + tree_list[\"Belowground_biomass_kg\"]"
   ]
  }
 ],
 "metadata": {
  "kernelspec": {
   "display_name": "Python 2",
   "language": "python",
   "name": "python2"
  },
  "language_info": {
   "codemirror_mode": {
    "name": "ipython",
    "version": 2
   },
   "file_extension": ".py",
   "mimetype": "text/x-python",
   "name": "python",
   "nbconvert_exporter": "python",
   "pygments_lexer": "ipython2",
   "version": "2.7.11"
  }
 },
 "nbformat": 4,
 "nbformat_minor": 0
}
